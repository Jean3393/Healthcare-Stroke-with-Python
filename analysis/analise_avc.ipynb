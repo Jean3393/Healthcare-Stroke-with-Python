{
 "cells": [
  {
   "cell_type": "markdown",
   "id": "9547e93e-b38d-476f-a675-33ad73452943",
   "metadata": {},
   "source": [
    "# Análise de Risco de AVC"
   ]
  },
  {
   "cell_type": "markdown",
   "id": "0410bc8f-24b3-4c41-9734-9a0559e776cd",
   "metadata": {},
   "source": [
    "## Objetivo"
   ]
  },
  {
   "cell_type": "markdown",
   "id": "1bf00a96-c9dd-45fe-bcb3-3230032efb19",
   "metadata": {},
   "source": [
    "Utilizar o conjunto de dados para entender mais sobre ocorrências de AVC dentre as pessoas. Contendo diversos parâmetros, o foco será entender melhor como eles se relacionam, se o estilo de vida, tipo de trabalho ou até mesmo o estado civil seriam fatores relevantes que influenciam nas ocorrências do Acidente Vascular Cerebral."
   ]
  },
  {
   "cell_type": "markdown",
   "id": "485d1724-e0c6-45e4-a8c8-cea993022074",
   "metadata": {},
   "source": [
    "## Estabelecendo o ambiente"
   ]
  },
  {
   "cell_type": "code",
   "execution_count": 1,
   "id": "4ec97e13-6234-41a9-b641-2819634259c2",
   "metadata": {},
   "outputs": [],
   "source": [
    "# Importando as bibliotecas necessárias\n",
    "import os\n",
    "import math\n",
    "import numpy as np\n",
    "import pandas as pd\n",
    "import matplotlib.pyplot as plt\n",
    "import seaborn as sns"
   ]
  },
  {
   "cell_type": "code",
   "execution_count": 2,
   "id": "efecdfd0-4d87-4686-b262-14faffa1c6cd",
   "metadata": {},
   "outputs": [
    {
     "name": "stdout",
     "output_type": "stream",
     "text": [
      "C:/Users/jeank/kaggle/input\\healthcare-dataset-stroke-data.csv\n"
     ]
    }
   ],
   "source": [
    "# Os arquivos de leitura estarão presentes no diretório de caminho '../input'\n",
    "# Por isso, ao rodar esta célula, serão listados todos os arquivos presentes na pasta 'input'\n",
    "\n",
    "for dirname, _, filenames in os.walk('C:/Users/jeank/kaggle/input'):\n",
    "    for filename in filenames:\n",
    "        print(os.path.join(dirname, filename))"
   ]
  },
  {
   "cell_type": "code",
   "execution_count": 3,
   "id": "c2649023-a05f-4166-b559-ebdc848b3179",
   "metadata": {},
   "outputs": [],
   "source": [
    "path = 'C:/Users/jeank/kaggle/input\\healthcare-dataset-stroke-data.csv'"
   ]
  },
  {
   "cell_type": "code",
   "execution_count": 4,
   "id": "8c5d0904-bc07-454d-b5d2-78866e18e6dd",
   "metadata": {},
   "outputs": [],
   "source": [
    "df = pd.read_csv(path)"
   ]
  },
  {
   "cell_type": "markdown",
   "id": "28fb4ddf-3611-43d9-bb7d-463f2e23f18a",
   "metadata": {},
   "source": [
    "## Entendendo o dataset"
   ]
  },
  {
   "cell_type": "code",
   "execution_count": 5,
   "id": "83862022-0852-4fc0-9bfc-320fd26ed28c",
   "metadata": {},
   "outputs": [
    {
     "data": {
      "text/html": [
       "<div>\n",
       "<style scoped>\n",
       "    .dataframe tbody tr th:only-of-type {\n",
       "        vertical-align: middle;\n",
       "    }\n",
       "\n",
       "    .dataframe tbody tr th {\n",
       "        vertical-align: top;\n",
       "    }\n",
       "\n",
       "    .dataframe thead th {\n",
       "        text-align: right;\n",
       "    }\n",
       "</style>\n",
       "<table border=\"1\" class=\"dataframe\">\n",
       "  <thead>\n",
       "    <tr style=\"text-align: right;\">\n",
       "      <th></th>\n",
       "      <th>id</th>\n",
       "      <th>gender</th>\n",
       "      <th>age</th>\n",
       "      <th>hypertension</th>\n",
       "      <th>heart_disease</th>\n",
       "      <th>ever_married</th>\n",
       "      <th>work_type</th>\n",
       "      <th>Residence_type</th>\n",
       "      <th>avg_glucose_level</th>\n",
       "      <th>bmi</th>\n",
       "      <th>smoking_status</th>\n",
       "      <th>stroke</th>\n",
       "    </tr>\n",
       "  </thead>\n",
       "  <tbody>\n",
       "    <tr>\n",
       "      <th>0</th>\n",
       "      <td>9046</td>\n",
       "      <td>Male</td>\n",
       "      <td>67.0</td>\n",
       "      <td>0</td>\n",
       "      <td>1</td>\n",
       "      <td>Yes</td>\n",
       "      <td>Private</td>\n",
       "      <td>Urban</td>\n",
       "      <td>228.69</td>\n",
       "      <td>36.6</td>\n",
       "      <td>formerly smoked</td>\n",
       "      <td>1</td>\n",
       "    </tr>\n",
       "    <tr>\n",
       "      <th>1</th>\n",
       "      <td>51676</td>\n",
       "      <td>Female</td>\n",
       "      <td>61.0</td>\n",
       "      <td>0</td>\n",
       "      <td>0</td>\n",
       "      <td>Yes</td>\n",
       "      <td>Self-employed</td>\n",
       "      <td>Rural</td>\n",
       "      <td>202.21</td>\n",
       "      <td>NaN</td>\n",
       "      <td>never smoked</td>\n",
       "      <td>1</td>\n",
       "    </tr>\n",
       "    <tr>\n",
       "      <th>2</th>\n",
       "      <td>31112</td>\n",
       "      <td>Male</td>\n",
       "      <td>80.0</td>\n",
       "      <td>0</td>\n",
       "      <td>1</td>\n",
       "      <td>Yes</td>\n",
       "      <td>Private</td>\n",
       "      <td>Rural</td>\n",
       "      <td>105.92</td>\n",
       "      <td>32.5</td>\n",
       "      <td>never smoked</td>\n",
       "      <td>1</td>\n",
       "    </tr>\n",
       "    <tr>\n",
       "      <th>3</th>\n",
       "      <td>60182</td>\n",
       "      <td>Female</td>\n",
       "      <td>49.0</td>\n",
       "      <td>0</td>\n",
       "      <td>0</td>\n",
       "      <td>Yes</td>\n",
       "      <td>Private</td>\n",
       "      <td>Urban</td>\n",
       "      <td>171.23</td>\n",
       "      <td>34.4</td>\n",
       "      <td>smokes</td>\n",
       "      <td>1</td>\n",
       "    </tr>\n",
       "    <tr>\n",
       "      <th>4</th>\n",
       "      <td>1665</td>\n",
       "      <td>Female</td>\n",
       "      <td>79.0</td>\n",
       "      <td>1</td>\n",
       "      <td>0</td>\n",
       "      <td>Yes</td>\n",
       "      <td>Self-employed</td>\n",
       "      <td>Rural</td>\n",
       "      <td>174.12</td>\n",
       "      <td>24.0</td>\n",
       "      <td>never smoked</td>\n",
       "      <td>1</td>\n",
       "    </tr>\n",
       "  </tbody>\n",
       "</table>\n",
       "</div>"
      ],
      "text/plain": [
       "      id  gender   age  hypertension  heart_disease ever_married  \\\n",
       "0   9046    Male  67.0             0              1          Yes   \n",
       "1  51676  Female  61.0             0              0          Yes   \n",
       "2  31112    Male  80.0             0              1          Yes   \n",
       "3  60182  Female  49.0             0              0          Yes   \n",
       "4   1665  Female  79.0             1              0          Yes   \n",
       "\n",
       "       work_type Residence_type  avg_glucose_level   bmi   smoking_status  \\\n",
       "0        Private          Urban             228.69  36.6  formerly smoked   \n",
       "1  Self-employed          Rural             202.21   NaN     never smoked   \n",
       "2        Private          Rural             105.92  32.5     never smoked   \n",
       "3        Private          Urban             171.23  34.4           smokes   \n",
       "4  Self-employed          Rural             174.12  24.0     never smoked   \n",
       "\n",
       "   stroke  \n",
       "0       1  \n",
       "1       1  \n",
       "2       1  \n",
       "3       1  \n",
       "4       1  "
      ]
     },
     "execution_count": 5,
     "metadata": {},
     "output_type": "execute_result"
    }
   ],
   "source": [
    "df.head()"
   ]
  },
  {
   "cell_type": "code",
   "execution_count": 6,
   "id": "fb8d7517-a9f3-4ca4-b283-98681924442c",
   "metadata": {},
   "outputs": [
    {
     "name": "stdout",
     "output_type": "stream",
     "text": [
      "Dataset contendo 5110 linhas e 12 colunas\n"
     ]
    }
   ],
   "source": [
    "# Verificando a forma do dataset\n",
    "print(f'Dataset contendo {df.shape[0]} linhas e {df.shape[1]} colunas')"
   ]
  },
  {
   "cell_type": "code",
   "execution_count": 7,
   "id": "4e6c4bfa-cb2c-4822-889f-a2e592c84692",
   "metadata": {},
   "outputs": [],
   "source": [
    "# Transformando a coluna 'id' no índice para facilitar futuras referências\n",
    "df.set_index('id', inplace=True)"
   ]
  },
  {
   "cell_type": "code",
   "execution_count": 8,
   "id": "a54efa87-1f46-4f7d-889c-367bb9e5f833",
   "metadata": {},
   "outputs": [
    {
     "data": {
      "text/html": [
       "<div>\n",
       "<style scoped>\n",
       "    .dataframe tbody tr th:only-of-type {\n",
       "        vertical-align: middle;\n",
       "    }\n",
       "\n",
       "    .dataframe tbody tr th {\n",
       "        vertical-align: top;\n",
       "    }\n",
       "\n",
       "    .dataframe thead th {\n",
       "        text-align: right;\n",
       "    }\n",
       "</style>\n",
       "<table border=\"1\" class=\"dataframe\">\n",
       "  <thead>\n",
       "    <tr style=\"text-align: right;\">\n",
       "      <th></th>\n",
       "      <th>age</th>\n",
       "      <th>hypertension</th>\n",
       "      <th>heart_disease</th>\n",
       "      <th>avg_glucose_level</th>\n",
       "      <th>bmi</th>\n",
       "      <th>stroke</th>\n",
       "    </tr>\n",
       "  </thead>\n",
       "  <tbody>\n",
       "    <tr>\n",
       "      <th>count</th>\n",
       "      <td>5110.000000</td>\n",
       "      <td>5110.000000</td>\n",
       "      <td>5110.000000</td>\n",
       "      <td>5110.000000</td>\n",
       "      <td>4909.000000</td>\n",
       "      <td>5110.000000</td>\n",
       "    </tr>\n",
       "    <tr>\n",
       "      <th>mean</th>\n",
       "      <td>43.226614</td>\n",
       "      <td>0.097456</td>\n",
       "      <td>0.054012</td>\n",
       "      <td>106.147677</td>\n",
       "      <td>28.893237</td>\n",
       "      <td>0.048728</td>\n",
       "    </tr>\n",
       "    <tr>\n",
       "      <th>std</th>\n",
       "      <td>22.612647</td>\n",
       "      <td>0.296607</td>\n",
       "      <td>0.226063</td>\n",
       "      <td>45.283560</td>\n",
       "      <td>7.854067</td>\n",
       "      <td>0.215320</td>\n",
       "    </tr>\n",
       "    <tr>\n",
       "      <th>min</th>\n",
       "      <td>0.080000</td>\n",
       "      <td>0.000000</td>\n",
       "      <td>0.000000</td>\n",
       "      <td>55.120000</td>\n",
       "      <td>10.300000</td>\n",
       "      <td>0.000000</td>\n",
       "    </tr>\n",
       "    <tr>\n",
       "      <th>25%</th>\n",
       "      <td>25.000000</td>\n",
       "      <td>0.000000</td>\n",
       "      <td>0.000000</td>\n",
       "      <td>77.245000</td>\n",
       "      <td>23.500000</td>\n",
       "      <td>0.000000</td>\n",
       "    </tr>\n",
       "    <tr>\n",
       "      <th>50%</th>\n",
       "      <td>45.000000</td>\n",
       "      <td>0.000000</td>\n",
       "      <td>0.000000</td>\n",
       "      <td>91.885000</td>\n",
       "      <td>28.100000</td>\n",
       "      <td>0.000000</td>\n",
       "    </tr>\n",
       "    <tr>\n",
       "      <th>75%</th>\n",
       "      <td>61.000000</td>\n",
       "      <td>0.000000</td>\n",
       "      <td>0.000000</td>\n",
       "      <td>114.090000</td>\n",
       "      <td>33.100000</td>\n",
       "      <td>0.000000</td>\n",
       "    </tr>\n",
       "    <tr>\n",
       "      <th>max</th>\n",
       "      <td>82.000000</td>\n",
       "      <td>1.000000</td>\n",
       "      <td>1.000000</td>\n",
       "      <td>271.740000</td>\n",
       "      <td>97.600000</td>\n",
       "      <td>1.000000</td>\n",
       "    </tr>\n",
       "  </tbody>\n",
       "</table>\n",
       "</div>"
      ],
      "text/plain": [
       "               age  hypertension  heart_disease  avg_glucose_level  \\\n",
       "count  5110.000000   5110.000000    5110.000000        5110.000000   \n",
       "mean     43.226614      0.097456       0.054012         106.147677   \n",
       "std      22.612647      0.296607       0.226063          45.283560   \n",
       "min       0.080000      0.000000       0.000000          55.120000   \n",
       "25%      25.000000      0.000000       0.000000          77.245000   \n",
       "50%      45.000000      0.000000       0.000000          91.885000   \n",
       "75%      61.000000      0.000000       0.000000         114.090000   \n",
       "max      82.000000      1.000000       1.000000         271.740000   \n",
       "\n",
       "               bmi       stroke  \n",
       "count  4909.000000  5110.000000  \n",
       "mean     28.893237     0.048728  \n",
       "std       7.854067     0.215320  \n",
       "min      10.300000     0.000000  \n",
       "25%      23.500000     0.000000  \n",
       "50%      28.100000     0.000000  \n",
       "75%      33.100000     0.000000  \n",
       "max      97.600000     1.000000  "
      ]
     },
     "execution_count": 8,
     "metadata": {},
     "output_type": "execute_result"
    }
   ],
   "source": [
    "# Verificando estatísticas descritivas das colunas numéricas\n",
    "df.describe()"
   ]
  },
  {
   "cell_type": "code",
   "execution_count": 9,
   "id": "8a618306-1cb5-48d0-a2f0-c222f47decb1",
   "metadata": {},
   "outputs": [
    {
     "name": "stdout",
     "output_type": "stream",
     "text": [
      "<class 'pandas.core.frame.DataFrame'>\n",
      "Index: 5110 entries, 9046 to 44679\n",
      "Data columns (total 11 columns):\n",
      " #   Column             Non-Null Count  Dtype  \n",
      "---  ------             --------------  -----  \n",
      " 0   gender             5110 non-null   object \n",
      " 1   age                5110 non-null   float64\n",
      " 2   hypertension       5110 non-null   int64  \n",
      " 3   heart_disease      5110 non-null   int64  \n",
      " 4   ever_married       5110 non-null   object \n",
      " 5   work_type          5110 non-null   object \n",
      " 6   Residence_type     5110 non-null   object \n",
      " 7   avg_glucose_level  5110 non-null   float64\n",
      " 8   bmi                4909 non-null   float64\n",
      " 9   smoking_status     5110 non-null   object \n",
      " 10  stroke             5110 non-null   int64  \n",
      "dtypes: float64(3), int64(3), object(5)\n",
      "memory usage: 479.1+ KB\n"
     ]
    }
   ],
   "source": [
    "# Analisando os tipos de dados de cada coluna, e se há valores nulos que impactariam no decorrer da análise\n",
    "df.info()"
   ]
  },
  {
   "cell_type": "markdown",
   "id": "974847c5-095c-4a41-b5f8-97e911aaae60",
   "metadata": {},
   "source": [
    "### Limpando dados"
   ]
  },
  {
   "cell_type": "markdown",
   "id": "1694a585-f49e-4f89-acc0-2a32b0ba5940",
   "metadata": {},
   "source": [
    "#### Tradução de texto"
   ]
  },
  {
   "cell_type": "code",
   "execution_count": 10,
   "id": "4b1f49fd-f582-432d-93a5-4f80df56684a",
   "metadata": {},
   "outputs": [],
   "source": [
    "# Traduzindo o nome das colunas para melhor entendimento\n",
    "df.rename(\n",
    "    columns={\n",
    "        'date':'data',\n",
    "        'gender':'genero',\n",
    "        'age':'idade',\n",
    "        'hypertension':'hipertensao',\n",
    "        'heart_disease':'doenca_cardiaca',\n",
    "        'ever_married':'ja_foi_casado',\n",
    "        'work_type':'tipo_de_trabalho',\n",
    "        'Residence_type':'tipo_de_residencia',\n",
    "        'avg_glucose_level':'nivel_medio_glucose',\n",
    "        'bmi':'imc',\n",
    "        'smoking_status':'fumante',\n",
    "        'stroke':'avc'\n",
    "    },\n",
    "    inplace=True\n",
    ")"
   ]
  },
  {
   "cell_type": "code",
   "execution_count": 11,
   "id": "05aee34d-a0e0-45fc-92ff-866832ee3a49",
   "metadata": {},
   "outputs": [
    {
     "data": {
      "text/html": [
       "<div>\n",
       "<style scoped>\n",
       "    .dataframe tbody tr th:only-of-type {\n",
       "        vertical-align: middle;\n",
       "    }\n",
       "\n",
       "    .dataframe tbody tr th {\n",
       "        vertical-align: top;\n",
       "    }\n",
       "\n",
       "    .dataframe thead th {\n",
       "        text-align: right;\n",
       "    }\n",
       "</style>\n",
       "<table border=\"1\" class=\"dataframe\">\n",
       "  <thead>\n",
       "    <tr style=\"text-align: right;\">\n",
       "      <th></th>\n",
       "      <th>genero</th>\n",
       "      <th>idade</th>\n",
       "      <th>hipertensao</th>\n",
       "      <th>doenca_cardiaca</th>\n",
       "      <th>ja_foi_casado</th>\n",
       "      <th>tipo_de_trabalho</th>\n",
       "      <th>tipo_de_residencia</th>\n",
       "      <th>nivel_medio_glucose</th>\n",
       "      <th>imc</th>\n",
       "      <th>fumante</th>\n",
       "      <th>avc</th>\n",
       "    </tr>\n",
       "    <tr>\n",
       "      <th>id</th>\n",
       "      <th></th>\n",
       "      <th></th>\n",
       "      <th></th>\n",
       "      <th></th>\n",
       "      <th></th>\n",
       "      <th></th>\n",
       "      <th></th>\n",
       "      <th></th>\n",
       "      <th></th>\n",
       "      <th></th>\n",
       "      <th></th>\n",
       "    </tr>\n",
       "  </thead>\n",
       "  <tbody>\n",
       "    <tr>\n",
       "      <th>9046</th>\n",
       "      <td>Male</td>\n",
       "      <td>67.0</td>\n",
       "      <td>0</td>\n",
       "      <td>1</td>\n",
       "      <td>Yes</td>\n",
       "      <td>Private</td>\n",
       "      <td>Urban</td>\n",
       "      <td>228.69</td>\n",
       "      <td>36.6</td>\n",
       "      <td>formerly smoked</td>\n",
       "      <td>1</td>\n",
       "    </tr>\n",
       "    <tr>\n",
       "      <th>51676</th>\n",
       "      <td>Female</td>\n",
       "      <td>61.0</td>\n",
       "      <td>0</td>\n",
       "      <td>0</td>\n",
       "      <td>Yes</td>\n",
       "      <td>Self-employed</td>\n",
       "      <td>Rural</td>\n",
       "      <td>202.21</td>\n",
       "      <td>NaN</td>\n",
       "      <td>never smoked</td>\n",
       "      <td>1</td>\n",
       "    </tr>\n",
       "    <tr>\n",
       "      <th>31112</th>\n",
       "      <td>Male</td>\n",
       "      <td>80.0</td>\n",
       "      <td>0</td>\n",
       "      <td>1</td>\n",
       "      <td>Yes</td>\n",
       "      <td>Private</td>\n",
       "      <td>Rural</td>\n",
       "      <td>105.92</td>\n",
       "      <td>32.5</td>\n",
       "      <td>never smoked</td>\n",
       "      <td>1</td>\n",
       "    </tr>\n",
       "    <tr>\n",
       "      <th>60182</th>\n",
       "      <td>Female</td>\n",
       "      <td>49.0</td>\n",
       "      <td>0</td>\n",
       "      <td>0</td>\n",
       "      <td>Yes</td>\n",
       "      <td>Private</td>\n",
       "      <td>Urban</td>\n",
       "      <td>171.23</td>\n",
       "      <td>34.4</td>\n",
       "      <td>smokes</td>\n",
       "      <td>1</td>\n",
       "    </tr>\n",
       "    <tr>\n",
       "      <th>1665</th>\n",
       "      <td>Female</td>\n",
       "      <td>79.0</td>\n",
       "      <td>1</td>\n",
       "      <td>0</td>\n",
       "      <td>Yes</td>\n",
       "      <td>Self-employed</td>\n",
       "      <td>Rural</td>\n",
       "      <td>174.12</td>\n",
       "      <td>24.0</td>\n",
       "      <td>never smoked</td>\n",
       "      <td>1</td>\n",
       "    </tr>\n",
       "  </tbody>\n",
       "</table>\n",
       "</div>"
      ],
      "text/plain": [
       "       genero  idade  hipertensao  doenca_cardiaca ja_foi_casado  \\\n",
       "id                                                                 \n",
       "9046     Male   67.0            0                1           Yes   \n",
       "51676  Female   61.0            0                0           Yes   \n",
       "31112    Male   80.0            0                1           Yes   \n",
       "60182  Female   49.0            0                0           Yes   \n",
       "1665   Female   79.0            1                0           Yes   \n",
       "\n",
       "      tipo_de_trabalho tipo_de_residencia  nivel_medio_glucose   imc  \\\n",
       "id                                                                     \n",
       "9046           Private              Urban               228.69  36.6   \n",
       "51676    Self-employed              Rural               202.21   NaN   \n",
       "31112          Private              Rural               105.92  32.5   \n",
       "60182          Private              Urban               171.23  34.4   \n",
       "1665     Self-employed              Rural               174.12  24.0   \n",
       "\n",
       "               fumante  avc  \n",
       "id                           \n",
       "9046   formerly smoked    1  \n",
       "51676     never smoked    1  \n",
       "31112     never smoked    1  \n",
       "60182           smokes    1  \n",
       "1665      never smoked    1  "
      ]
     },
     "execution_count": 11,
     "metadata": {},
     "output_type": "execute_result"
    }
   ],
   "source": [
    "df.head()"
   ]
  },
  {
   "cell_type": "code",
   "execution_count": 12,
   "id": "475165ee-dceb-4cd9-965e-8a572d53d933",
   "metadata": {},
   "outputs": [
    {
     "data": {
      "text/plain": [
       "array(['Male', 'Female', 'Other'], dtype=object)"
      ]
     },
     "execution_count": 12,
     "metadata": {},
     "output_type": "execute_result"
    }
   ],
   "source": [
    "pd.unique(df['genero'])"
   ]
  },
  {
   "cell_type": "code",
   "execution_count": 13,
   "id": "841b7326-a021-4904-a117-e9e5ab61cbb7",
   "metadata": {},
   "outputs": [],
   "source": [
    "# Traduzindo a coluna 'genero'\n",
    "traducao_genero = dict(Male='masculino',\n",
    "                       Female='feminino',\n",
    "                       Other='outro'\n",
    "                      )\n",
    "df.replace(traducao_genero, inplace=True)"
   ]
  },
  {
   "cell_type": "code",
   "execution_count": 14,
   "id": "0e271cac-684f-4812-b358-0aeccb16870e",
   "metadata": {},
   "outputs": [
    {
     "data": {
      "text/plain": [
       "array(['Yes', 'No'], dtype=object)"
      ]
     },
     "execution_count": 14,
     "metadata": {},
     "output_type": "execute_result"
    }
   ],
   "source": [
    "pd.unique(df['ja_foi_casado'])"
   ]
  },
  {
   "cell_type": "code",
   "execution_count": 15,
   "id": "02dd9245-86b1-4987-9ac9-ea788ec3a6bb",
   "metadata": {},
   "outputs": [],
   "source": [
    "# Traduzindo a coluna 'ja_foi_casado'\n",
    "traducao_ja_foi_casado = dict(Yes='sim', No='nao')\n",
    "df.replace(traducao_ja_foi_casado, inplace=True)"
   ]
  },
  {
   "cell_type": "code",
   "execution_count": 16,
   "id": "2d58177a-9e8f-4f31-90dd-cb7666e42aa4",
   "metadata": {},
   "outputs": [
    {
     "data": {
      "text/plain": [
       "array(['Private', 'Self-employed', 'Govt_job', 'children', 'Never_worked'],\n",
       "      dtype=object)"
      ]
     },
     "execution_count": 16,
     "metadata": {},
     "output_type": "execute_result"
    }
   ],
   "source": [
    "pd.unique(df['tipo_de_trabalho'])"
   ]
  },
  {
   "cell_type": "code",
   "execution_count": 17,
   "id": "7f4cf1fa-5cf5-4444-9674-ba61959f6596",
   "metadata": {},
   "outputs": [],
   "source": [
    "# Traduzindo a coluna 'tipo_de_trabalho'\n",
    "traducao_tipo_de_trabalho = {'Private':'privado',\n",
    "                             'Self-employed':'autonomo',\n",
    "                             'Govt_job':'publico',\n",
    "                             'children':'crianca',\n",
    "                             'Never_worked':'nunca_trabalhou'\n",
    "                             }\n",
    "df.replace(traducao_tipo_de_trabalho, inplace=True)"
   ]
  },
  {
   "cell_type": "code",
   "execution_count": 18,
   "id": "c4b31a19-7b46-4952-9035-4df02c6d4123",
   "metadata": {},
   "outputs": [
    {
     "data": {
      "text/plain": [
       "array(['Urban', 'Rural'], dtype=object)"
      ]
     },
     "execution_count": 18,
     "metadata": {},
     "output_type": "execute_result"
    }
   ],
   "source": [
    "pd.unique(df['tipo_de_residencia'])"
   ]
  },
  {
   "cell_type": "code",
   "execution_count": 19,
   "id": "902e13d6-99ba-4a8f-be67-fb10a4edca93",
   "metadata": {},
   "outputs": [],
   "source": [
    "# Traduzindo a coluna 'tipo_de_residencia'\n",
    "traducao_tipo_de_residencia = dict(Urban='urbana', Rural='rural')\n",
    "df.replace(traducao_tipo_de_residencia, inplace=True)"
   ]
  },
  {
   "cell_type": "code",
   "execution_count": 20,
   "id": "6a0cbe97-47e0-4640-a3af-3574914fccb0",
   "metadata": {},
   "outputs": [
    {
     "data": {
      "text/plain": [
       "array(['formerly smoked', 'never smoked', 'smokes', 'Unknown'],\n",
       "      dtype=object)"
      ]
     },
     "execution_count": 20,
     "metadata": {},
     "output_type": "execute_result"
    }
   ],
   "source": [
    "pd.unique(df['fumante'])"
   ]
  },
  {
   "cell_type": "code",
   "execution_count": 21,
   "id": "1cf8bcec-4780-49c4-912d-d2040c5d9341",
   "metadata": {},
   "outputs": [],
   "source": [
    "# Traduzindo a coluna 'fumante'\n",
    "traducao_fumante = {'formerly smoked':'parou_de_fumar',\n",
    "                   'never smoked':'nunca_fumou',\n",
    "                   'smokes':'fuma',\n",
    "                   'Unknown':'nao_respondeu'\n",
    "                   }\n",
    "df.replace(traducao_fumante, inplace=True)"
   ]
  },
  {
   "cell_type": "code",
   "execution_count": 22,
   "id": "0d1ef6e8-58e2-4d6a-b2ed-3b64864d15af",
   "metadata": {},
   "outputs": [
    {
     "data": {
      "text/html": [
       "<div>\n",
       "<style scoped>\n",
       "    .dataframe tbody tr th:only-of-type {\n",
       "        vertical-align: middle;\n",
       "    }\n",
       "\n",
       "    .dataframe tbody tr th {\n",
       "        vertical-align: top;\n",
       "    }\n",
       "\n",
       "    .dataframe thead th {\n",
       "        text-align: right;\n",
       "    }\n",
       "</style>\n",
       "<table border=\"1\" class=\"dataframe\">\n",
       "  <thead>\n",
       "    <tr style=\"text-align: right;\">\n",
       "      <th></th>\n",
       "      <th>genero</th>\n",
       "      <th>idade</th>\n",
       "      <th>hipertensao</th>\n",
       "      <th>doenca_cardiaca</th>\n",
       "      <th>ja_foi_casado</th>\n",
       "      <th>tipo_de_trabalho</th>\n",
       "      <th>tipo_de_residencia</th>\n",
       "      <th>nivel_medio_glucose</th>\n",
       "      <th>imc</th>\n",
       "      <th>fumante</th>\n",
       "      <th>avc</th>\n",
       "    </tr>\n",
       "    <tr>\n",
       "      <th>id</th>\n",
       "      <th></th>\n",
       "      <th></th>\n",
       "      <th></th>\n",
       "      <th></th>\n",
       "      <th></th>\n",
       "      <th></th>\n",
       "      <th></th>\n",
       "      <th></th>\n",
       "      <th></th>\n",
       "      <th></th>\n",
       "      <th></th>\n",
       "    </tr>\n",
       "  </thead>\n",
       "  <tbody>\n",
       "    <tr>\n",
       "      <th>9046</th>\n",
       "      <td>masculino</td>\n",
       "      <td>67.0</td>\n",
       "      <td>0</td>\n",
       "      <td>1</td>\n",
       "      <td>sim</td>\n",
       "      <td>privado</td>\n",
       "      <td>urbana</td>\n",
       "      <td>228.69</td>\n",
       "      <td>36.6</td>\n",
       "      <td>parou_de_fumar</td>\n",
       "      <td>1</td>\n",
       "    </tr>\n",
       "    <tr>\n",
       "      <th>51676</th>\n",
       "      <td>feminino</td>\n",
       "      <td>61.0</td>\n",
       "      <td>0</td>\n",
       "      <td>0</td>\n",
       "      <td>sim</td>\n",
       "      <td>autonomo</td>\n",
       "      <td>rural</td>\n",
       "      <td>202.21</td>\n",
       "      <td>NaN</td>\n",
       "      <td>nunca_fumou</td>\n",
       "      <td>1</td>\n",
       "    </tr>\n",
       "    <tr>\n",
       "      <th>31112</th>\n",
       "      <td>masculino</td>\n",
       "      <td>80.0</td>\n",
       "      <td>0</td>\n",
       "      <td>1</td>\n",
       "      <td>sim</td>\n",
       "      <td>privado</td>\n",
       "      <td>rural</td>\n",
       "      <td>105.92</td>\n",
       "      <td>32.5</td>\n",
       "      <td>nunca_fumou</td>\n",
       "      <td>1</td>\n",
       "    </tr>\n",
       "    <tr>\n",
       "      <th>60182</th>\n",
       "      <td>feminino</td>\n",
       "      <td>49.0</td>\n",
       "      <td>0</td>\n",
       "      <td>0</td>\n",
       "      <td>sim</td>\n",
       "      <td>privado</td>\n",
       "      <td>urbana</td>\n",
       "      <td>171.23</td>\n",
       "      <td>34.4</td>\n",
       "      <td>fuma</td>\n",
       "      <td>1</td>\n",
       "    </tr>\n",
       "    <tr>\n",
       "      <th>1665</th>\n",
       "      <td>feminino</td>\n",
       "      <td>79.0</td>\n",
       "      <td>1</td>\n",
       "      <td>0</td>\n",
       "      <td>sim</td>\n",
       "      <td>autonomo</td>\n",
       "      <td>rural</td>\n",
       "      <td>174.12</td>\n",
       "      <td>24.0</td>\n",
       "      <td>nunca_fumou</td>\n",
       "      <td>1</td>\n",
       "    </tr>\n",
       "  </tbody>\n",
       "</table>\n",
       "</div>"
      ],
      "text/plain": [
       "          genero  idade  hipertensao  doenca_cardiaca ja_foi_casado  \\\n",
       "id                                                                    \n",
       "9046   masculino   67.0            0                1           sim   \n",
       "51676   feminino   61.0            0                0           sim   \n",
       "31112  masculino   80.0            0                1           sim   \n",
       "60182   feminino   49.0            0                0           sim   \n",
       "1665    feminino   79.0            1                0           sim   \n",
       "\n",
       "      tipo_de_trabalho tipo_de_residencia  nivel_medio_glucose   imc  \\\n",
       "id                                                                     \n",
       "9046           privado             urbana               228.69  36.6   \n",
       "51676         autonomo              rural               202.21   NaN   \n",
       "31112          privado              rural               105.92  32.5   \n",
       "60182          privado             urbana               171.23  34.4   \n",
       "1665          autonomo              rural               174.12  24.0   \n",
       "\n",
       "              fumante  avc  \n",
       "id                          \n",
       "9046   parou_de_fumar    1  \n",
       "51676     nunca_fumou    1  \n",
       "31112     nunca_fumou    1  \n",
       "60182            fuma    1  \n",
       "1665      nunca_fumou    1  "
      ]
     },
     "execution_count": 22,
     "metadata": {},
     "output_type": "execute_result"
    }
   ],
   "source": [
    "df.head()"
   ]
  },
  {
   "cell_type": "code",
   "execution_count": 23,
   "id": "db23abac-cac2-4548-8473-6d6262ceabe7",
   "metadata": {},
   "outputs": [],
   "source": [
    "# Transformando a coluna 'idade' que está no tipo 'float' para o tipo 'int', para termos apenas a idade inteira do paciente\n",
    "df['idade'] = df['idade'].astype(int)"
   ]
  },
  {
   "cell_type": "markdown",
   "id": "97489f99-c13a-4ace-9e62-56791b8762cb",
   "metadata": {},
   "source": [
    "#### Verificando valores duplicados e nulos"
   ]
  },
  {
   "cell_type": "code",
   "execution_count": 24,
   "id": "3d260e95-bb5c-449f-b578-302e57bd762c",
   "metadata": {},
   "outputs": [
    {
     "name": "stdout",
     "output_type": "stream",
     "text": [
      "Valores duplicados: 0\n"
     ]
    }
   ],
   "source": [
    "print(f'Valores duplicados: {df.duplicated().sum()}')"
   ]
  },
  {
   "cell_type": "code",
   "execution_count": 25,
   "id": "e000df3b-81fa-4fce-ade6-4654c3467677",
   "metadata": {},
   "outputs": [
    {
     "name": "stdout",
     "output_type": "stream",
     "text": [
      "Valores nulos: \n",
      "\n",
      "genero                   0\n",
      "idade                    0\n",
      "hipertensao              0\n",
      "doenca_cardiaca          0\n",
      "ja_foi_casado            0\n",
      "tipo_de_trabalho         0\n",
      "tipo_de_residencia       0\n",
      "nivel_medio_glucose      0\n",
      "imc                    201\n",
      "fumante                  0\n",
      "avc                      0\n",
      "dtype: int64\n",
      "\n"
     ]
    },
    {
     "data": {
      "text/plain": [
       "<Axes: ylabel='id'>"
      ]
     },
     "execution_count": 25,
     "metadata": {},
     "output_type": "execute_result"
    },
    {
     "data": {
      "image/png": "[encoded data removed]",
      "text/plain": [
       "<Figure size 640x480 with 1 Axes>"
      ]
     },
     "metadata": {},
     "output_type": "display_data"
    }
   ],
   "source": [
    "# Verificando quantidade de valores nulos no dataset\n",
    "print(f'Valores nulos: \\n\\n{df.isnull().sum()}\\n')\n",
    "sns.heatmap(df.isnull(), cbar=False, yticklabels=False)"
   ]
  },
  {
   "cell_type": "code",
   "execution_count": 26,
   "id": "f4e70461-2921-4b7e-885d-54acdda1431b",
   "metadata": {},
   "outputs": [
    {
     "name": "stdout",
     "output_type": "stream",
     "text": [
      "Valores nulos: \n",
      "\n",
      "genero                 0\n",
      "idade                  0\n",
      "hipertensao            0\n",
      "doenca_cardiaca        0\n",
      "ja_foi_casado          0\n",
      "tipo_de_trabalho       0\n",
      "tipo_de_residencia     0\n",
      "nivel_medio_glucose    0\n",
      "imc                    0\n",
      "fumante                0\n",
      "avc                    0\n",
      "dtype: int64\n",
      "\n"
     ]
    },
    {
     "data": {
      "text/plain": [
       "<Axes: ylabel='id'>"
      ]
     },
     "execution_count": 26,
     "metadata": {},
     "output_type": "execute_result"
    },
    {
     "data": {
      "image/png": "[encoded data removed]",
      "text/plain": [
       "<Figure size 640x480 with 1 Axes>"
      ]
     },
     "metadata": {},
     "output_type": "display_data"
    }
   ],
   "source": [
    "# Preenchendo valores nulos da coluna 'imc' nos baseando no gênero e na idade do paciente\n",
    "df['imc'] = df.groupby(['idade','genero'])['imc'].transform(lambda x: x.fillna(x.median()))\n",
    "\n",
    "print(f'Valores nulos: \\n\\n{df.isnull().sum()}\\n')\n",
    "sns.heatmap(df.isnull(), cbar=False, yticklabels=False)"
   ]
  },
  {
   "cell_type": "markdown",
   "id": "ced068f4-74b4-43e4-a6ea-fce0a94bc028",
   "metadata": {},
   "source": [
    "## Descobrindo a quantidade de pacientes que sofreram AVC"
   ]
  },
  {
   "cell_type": "markdown",
   "id": "dc8429be-543e-4a7f-ab10-2dac35a8c2fb",
   "metadata": {},
   "source": [
    "### Análise numérica"
   ]
  },
  {
   "cell_type": "code",
   "execution_count": 27,
   "id": "a7042aae-f8f1-4009-9a77-2e66cdddc22e",
   "metadata": {},
   "outputs": [
    {
     "data": {
      "text/html": [
       "<div>\n",
       "<style scoped>\n",
       "    .dataframe tbody tr th:only-of-type {\n",
       "        vertical-align: middle;\n",
       "    }\n",
       "\n",
       "    .dataframe tbody tr th {\n",
       "        vertical-align: top;\n",
       "    }\n",
       "\n",
       "    .dataframe thead th {\n",
       "        text-align: right;\n",
       "    }\n",
       "</style>\n",
       "<table border=\"1\" class=\"dataframe\">\n",
       "  <thead>\n",
       "    <tr style=\"text-align: right;\">\n",
       "      <th></th>\n",
       "      <th>avc</th>\n",
       "      <th>contagem</th>\n",
       "    </tr>\n",
       "  </thead>\n",
       "  <tbody>\n",
       "    <tr>\n",
       "      <th>0</th>\n",
       "      <td>Não sofreram AVC</td>\n",
       "      <td>4861</td>\n",
       "    </tr>\n",
       "    <tr>\n",
       "      <th>1</th>\n",
       "      <td>Sofreram AVC</td>\n",
       "      <td>249</td>\n",
       "    </tr>\n",
       "  </tbody>\n",
       "</table>\n",
       "</div>"
      ],
      "text/plain": [
       "                avc  contagem\n",
       "0  Não sofreram AVC      4861\n",
       "1      Sofreram AVC       249"
      ]
     },
     "execution_count": 27,
     "metadata": {},
     "output_type": "execute_result"
    }
   ],
   "source": [
    "# Criando o Dataframe que será utilizado para plotar o gráfico\n",
    "\n",
    "# Utilizamos o .reset_index() para incluir a coluna 'stroke' no dataframe\n",
    "pacientes_avc = df['avc'].value_counts().rename('contagem').reset_index()\n",
    "\n",
    "# Substituímos os valores binários '0' e '1' por 'Não sofreram AVC' e 'Sofreram AVC', respectivamente, para facilitar na interpretação\n",
    "pacientes_avc['avc'] = pacientes_avc['avc'].apply(lambda stroke: 'Não sofreram AVC' if stroke == 0 else 'Sofreram AVC')\n",
    "pacientes_avc"
   ]
  },
  {
   "cell_type": "markdown",
   "id": "8820882d-35a3-4343-be9b-9a9eb6b799e4",
   "metadata": {},
   "source": [
    "### Plotagem"
   ]
  },
  {
   "cell_type": "code",
   "execution_count": 28,
   "id": "9ceb7779-783d-4122-9111-1e1876ac26b7",
   "metadata": {},
   "outputs": [
    {
     "data": {
      "text/plain": [
       "Text(0, -0.1, 'Total de entrevistados \\n5110')"
      ]
     },
     "execution_count": 28,
     "metadata": {},
     "output_type": "execute_result"
    },
    {
     "data": {
      "image/png": "[encoded data removed]",
      "text/plain": [
       "<Figure size 500x800 with 1 Axes>"
      ]
     },
     "metadata": {},
     "output_type": "display_data"
    }
   ],
   "source": [
    "# Gráfico de Rosca\n",
    "\n",
    "fig, ax = plt.subplots(figsize=(5, 8))\n",
    "\n",
    "# Criando o gráfico, mudando o rótulo de percentil para o valor específico dos dados no parâmetro 'autopct', \n",
    "# e adicionando uma borda entre as fatias com o parâmetro 'wedgeprops'\n",
    "ax.pie(\n",
    "    pacientes_avc['contagem'], \n",
    "    labels=pacientes_avc['avc'], \n",
    "    autopct= lambda r: f'{int(round(r*sum(pacientes_avc[\"contagem\"])/100)):d}',\n",
    "    textprops={'color':'k'},\n",
    "    pctdistance=0.85, \n",
    "    startangle=90, \n",
    "    wedgeprops={'linewidth': 1, 'edgecolor': 'w'}\n",
    ")\n",
    "\n",
    "ax.set_title('Pacientes que sofreram AVC', fontsize=14)\n",
    "\n",
    "# Desenhando um círculo branco para criar o aspecto de rosca\n",
    "circulo = plt.Circle((0, 0), 0.75, fc='w')\n",
    "\n",
    "# Adicionando o círculo no gráfico\n",
    "ax.add_artist(circulo)\n",
    "\n",
    "# Adicionando o total de entrevistados no centro do gráfico para melhor visualização e entendimento\n",
    "total_pacientes = pacientes_avc['contagem'].sum()\n",
    "ax.annotate('Total de entrevistados \\n' + str(total_pacientes),\n",
    "            xy=(0, -0.1),\n",
    "            fontsize=9, \n",
    "            ha=\"center\"\n",
    "           )"
   ]
  },
  {
   "cell_type": "markdown",
   "id": "0924729a-dcd2-4d0e-8e73-4076cbc14fd0",
   "metadata": {},
   "source": [
    "De um total de 5109 pacientes entrevistados, 4860 não sofreram um AVC, contra 249 pacientes que sofreram"
   ]
  },
  {
   "cell_type": "markdown",
   "id": "82d61494-80c4-4500-82d8-f4d94a6f66c0",
   "metadata": {},
   "source": [
    "## Explorando as colunas categóricas para primeiras impressões sobre AVC"
   ]
  },
  {
   "cell_type": "markdown",
   "id": "747fb406-2fcb-403f-ad8d-6be0218ee09d",
   "metadata": {},
   "source": [
    "### Análise numérica"
   ]
  },
  {
   "cell_type": "code",
   "execution_count": 29,
   "id": "48845c62-5e84-444e-bd5f-2ed4d40eb6ad",
   "metadata": {},
   "outputs": [
    {
     "data": {
      "text/plain": [
       "genero\n",
       "feminino     2994\n",
       "masculino    2115\n",
       "outro           1\n",
       "Name: count, dtype: int64"
      ]
     },
     "execution_count": 29,
     "metadata": {},
     "output_type": "execute_result"
    }
   ],
   "source": [
    "# Aqui verificamos as identidades de gêrero preenchidas pelos pacientes \n",
    "df['genero'].value_counts()"
   ]
  },
  {
   "cell_type": "code",
   "execution_count": 30,
   "id": "ce422e88-7731-451f-9519-7c2e397e0d9f",
   "metadata": {},
   "outputs": [],
   "source": [
    "# Identificamos que apenas um paciente respondeu como 'outro', logo, removeremos o valor que se diferencia significativamente dos demais\n",
    "filtro = (df['genero'] == 'outro')\n",
    "df.drop(index=df[filtro].index, inplace=True)"
   ]
  },
  {
   "cell_type": "code",
   "execution_count": 31,
   "id": "8eb1eb78-ad2e-4548-bda8-4864164ad638",
   "metadata": {},
   "outputs": [
    {
     "name": "stdout",
     "output_type": "stream",
     "text": [
      "--------------------------------------------------------------\n",
      "A coluna \"genero\" possui 2 valores diferentes: \n",
      "\n",
      "genero\n",
      "feminino     2994\n",
      "masculino    2115\n",
      "Name: count, dtype: int64\n",
      "--------------------------------------------------------------\n",
      "\n",
      "A coluna \"ja_foi_casado\" possui 2 valores diferentes: \n",
      "\n",
      "ja_foi_casado\n",
      "sim    3353\n",
      "nao    1756\n",
      "Name: count, dtype: int64\n",
      "--------------------------------------------------------------\n",
      "\n",
      "A coluna \"tipo_de_trabalho\" possui 5 valores diferentes: \n",
      "\n",
      "tipo_de_trabalho\n",
      "privado            2924\n",
      "autonomo            819\n",
      "crianca             687\n",
      "publico             657\n",
      "nunca_trabalhou      22\n",
      "Name: count, dtype: int64\n",
      "--------------------------------------------------------------\n",
      "\n",
      "A coluna \"tipo_de_residencia\" possui 2 valores diferentes: \n",
      "\n",
      "tipo_de_residencia\n",
      "urbana    2596\n",
      "rural     2513\n",
      "Name: count, dtype: int64\n",
      "--------------------------------------------------------------\n",
      "\n",
      "A coluna \"fumante\" possui 4 valores diferentes: \n",
      "\n",
      "fumante\n",
      "nunca_fumou       1892\n",
      "nao_respondeu     1544\n",
      "parou_de_fumar     884\n",
      "fuma               789\n",
      "Name: count, dtype: int64\n",
      "--------------------------------------------------------------\n",
      "\n"
     ]
    }
   ],
   "source": [
    "# Definindo colunas categóricas para análise\n",
    "colunas_categoricas = [coluna for coluna in df.columns if df[coluna].dtype == 'object']\n",
    "\n",
    "print('--------------------------------------------------------------')\n",
    "for coluna in colunas_categoricas:\n",
    "    contagem = df[coluna].value_counts()\n",
    "    print(f'A coluna \"{coluna}\" possui {contagem.index.size} valores diferentes: \\n')\n",
    "    print(contagem)\n",
    "    print('--------------------------------------------------------------\\n')"
   ]
  },
  {
   "cell_type": "markdown",
   "id": "420746c2-2c93-4e4b-95b2-103560ecda49",
   "metadata": {},
   "source": [
    "### Plotagem"
   ]
  },
  {
   "cell_type": "code",
   "execution_count": 32,
   "id": "971e849b-1682-4ff5-b2e4-419b21e3efe3",
   "metadata": {},
   "outputs": [
    {
     "data": {
      "image/png": "[encoded data removed]",
      "text/plain": [
       "<Figure size 1800x1800 with 5 Axes>"
      ]
     },
     "metadata": {},
     "output_type": "display_data"
    }
   ],
   "source": [
    "# Gráfico de barras\n",
    "\n",
    "# Definindo função de plotagem dos múltiplos gráficos de barra baseados nas colunas categóricas\n",
    "def plotagem_colunas_categoricas(dataframe, colunas):\n",
    "\n",
    "    # Tamanho e espaçamento da figure para manter visualização limpa\n",
    "    plt.figure(figsize=(18, 18))\n",
    "    plt.subplots_adjust(wspace=.2, hspace=.3)\n",
    "    \n",
    "    # Definindo duas colunas e valor dinâmico de linhas para encaixe das visualizações na figure\n",
    "    colunas_figure = 2\n",
    "    linhas_figure = math.ceil((len(colunas)/2))\n",
    "\n",
    "    for i, coluna in enumerate(colunas_categoricas, 1):\n",
    "\n",
    "        # Através do método enumerate() conseguimos especificar a posição dos gráficos dinamicamente\n",
    "        ax = plt.subplot(linhas_figure, colunas_figure, i)\n",
    "\n",
    "        # Plotagem do gráfico adicionando o comparativo através do parâmetro 'hue'\n",
    "        sns.countplot(x=dataframe[coluna], hue=dataframe['avc'])\n",
    "        ax.set_title(f'Pacientes por \"{coluna}\"', fontsize=14)\n",
    "        ax.set_xlabel(f'{coluna}', fontsize=12)\n",
    "        ax.set_ylabel('Contagem',  fontsize=12)\n",
    "\n",
    "        # Adicionando margem superior para permitir visualização dos rótulos de dados\n",
    "        ax.margins(y=0.3)\n",
    "\n",
    "        # Mudando a legenda para melhor entendimento\n",
    "        plt.legend(title='AVC', loc=0, labels=['Não sofreu AVC', 'Sofreu AVC'])\n",
    "\n",
    "        # Como utilizamos o 'hue', temos múltiplos containers nos gráficos. Acessaremos individualmente para adicionar os rótulos\n",
    "        for container in ax.containers:\n",
    "            ax.bar_label(container, padding=13)\n",
    "            ax.bar_label(\n",
    "                container,\n",
    "                labels = [f'{round((x.get_height())*100/(dataframe[coluna].value_counts().values.sum()),2)}%' for x in container],\n",
    "                label_type='edge'\n",
    "            )\n",
    "\n",
    "# Usando a função definida para a plotagem\n",
    "plotagem_colunas_categoricas(df, colunas_categoricas)"
   ]
  },
  {
   "cell_type": "markdown",
   "id": "3a6d899a-af5e-4b87-90a6-a264f1313d01",
   "metadata": {},
   "source": [
    "Fazendo um comparativo com o número de pacientes entrevistados que sofreram um AVC, podemos perceber alguns insights interessantes:\n",
    "- Apesar do número de mulheres que sofreram AVC ser maior, a porcentagem de homens que sofreram AVC do total de entrevistados é superior, mostrando que o acidente é mais comum entre os homens.\n",
    "- Pessoas casadas tem maior tendência a sofrer AVC.\n",
    "- Os pacientes entrevistados que trabalham no setor privado foram 2x mais afetados que os que são autônomos e 4x mais que os que trabalham no setor público.\n",
    "- Morar na zona rural ou urbana não apresentou diferença significativa para identificar padrões."
   ]
  },
  {
   "cell_type": "markdown",
   "id": "f2ddf4a9-b1fd-411c-9f35-b5b19cf8e35c",
   "metadata": {},
   "source": [
    "## Distribuindo o número de pessoas por idade comparando os que sofreram com os que não sofreram um AVC"
   ]
  },
  {
   "cell_type": "markdown",
   "id": "f70b7b56-7ba4-440c-bf54-1eb7a711ca32",
   "metadata": {},
   "source": [
    "### Análise numérica"
   ]
  },
  {
   "cell_type": "code",
   "execution_count": 33,
   "id": "1d612eeb-902d-4365-96f0-3a00012b8b2e",
   "metadata": {},
   "outputs": [
    {
     "data": {
      "text/html": [
       "<div>\n",
       "<style scoped>\n",
       "    .dataframe tbody tr th:only-of-type {\n",
       "        vertical-align: middle;\n",
       "    }\n",
       "\n",
       "    .dataframe tbody tr th {\n",
       "        vertical-align: top;\n",
       "    }\n",
       "\n",
       "    .dataframe thead th {\n",
       "        text-align: right;\n",
       "    }\n",
       "</style>\n",
       "<table border=\"1\" class=\"dataframe\">\n",
       "  <thead>\n",
       "    <tr style=\"text-align: right;\">\n",
       "      <th></th>\n",
       "      <th>idade</th>\n",
       "      <th>contagem</th>\n",
       "    </tr>\n",
       "  </thead>\n",
       "  <tbody>\n",
       "    <tr>\n",
       "      <th>0</th>\n",
       "      <td>78</td>\n",
       "      <td>102</td>\n",
       "    </tr>\n",
       "    <tr>\n",
       "      <th>1</th>\n",
       "      <td>57</td>\n",
       "      <td>95</td>\n",
       "    </tr>\n",
       "    <tr>\n",
       "      <th>2</th>\n",
       "      <td>52</td>\n",
       "      <td>90</td>\n",
       "    </tr>\n",
       "    <tr>\n",
       "      <th>3</th>\n",
       "      <td>54</td>\n",
       "      <td>87</td>\n",
       "    </tr>\n",
       "    <tr>\n",
       "      <th>4</th>\n",
       "      <td>51</td>\n",
       "      <td>86</td>\n",
       "    </tr>\n",
       "    <tr>\n",
       "      <th>...</th>\n",
       "      <td>...</td>\n",
       "      <td>...</td>\n",
       "    </tr>\n",
       "    <tr>\n",
       "      <th>78</th>\n",
       "      <td>11</td>\n",
       "      <td>36</td>\n",
       "    </tr>\n",
       "    <tr>\n",
       "      <th>79</th>\n",
       "      <td>10</td>\n",
       "      <td>35</td>\n",
       "    </tr>\n",
       "    <tr>\n",
       "      <th>80</th>\n",
       "      <td>4</td>\n",
       "      <td>34</td>\n",
       "    </tr>\n",
       "    <tr>\n",
       "      <th>81</th>\n",
       "      <td>7</td>\n",
       "      <td>32</td>\n",
       "    </tr>\n",
       "    <tr>\n",
       "      <th>82</th>\n",
       "      <td>6</td>\n",
       "      <td>24</td>\n",
       "    </tr>\n",
       "  </tbody>\n",
       "</table>\n",
       "<p>83 rows × 2 columns</p>\n",
       "</div>"
      ],
      "text/plain": [
       "    idade  contagem\n",
       "0      78       102\n",
       "1      57        95\n",
       "2      52        90\n",
       "3      54        87\n",
       "4      51        86\n",
       "..    ...       ...\n",
       "78     11        36\n",
       "79     10        35\n",
       "80      4        34\n",
       "81      7        32\n",
       "82      6        24\n",
       "\n",
       "[83 rows x 2 columns]"
      ]
     },
     "execution_count": 33,
     "metadata": {},
     "output_type": "execute_result"
    }
   ],
   "source": [
    "# Verificação da distribuição de pacientes por idade\n",
    "\n",
    "# Utilizamos o .reset_index() para incluir a coluna 'idade' no dataframe\n",
    "dist_idade = df['idade'].value_counts().rename('contagem').reset_index()\n",
    "dist_idade"
   ]
  },
  {
   "cell_type": "code",
   "execution_count": 34,
   "id": "fd9b2af2-c03b-4b24-a3e8-e83c1faff3cb",
   "metadata": {},
   "outputs": [],
   "source": [
    "# Criando dataframe para análise de AVC dos pacientes por idade e gênero\n",
    "filtro_m = (df['genero'] == 'masculino')\n",
    "filtro_f = (df['genero'] == 'feminino')\n",
    "\n",
    "df_m = df[filtro_m]\n",
    "df_f = df[filtro_f]"
   ]
  },
  {
   "cell_type": "markdown",
   "id": "57393ff6-9c83-4736-a8ff-b5a1ef1846d4",
   "metadata": {},
   "source": [
    "### Plotagem"
   ]
  },
  {
   "cell_type": "code",
   "execution_count": 35,
   "id": "7a3eb033-4879-40e4-b284-31a77c084ec5",
   "metadata": {},
   "outputs": [
    {
     "data": {
      "image/png": "[encoded data removed]",
      "text/plain": [
       "<Figure size 1800x500 with 2 Axes>"
      ]
     },
     "metadata": {},
     "output_type": "display_data"
    }
   ],
   "source": [
    "# Gráfico de distribuição (histograma)\n",
    "\n",
    "# Definindo os subplots para plotagem dupla de gráfico\n",
    "fig, ax = plt.subplots(figsize=(18,5), nrows=1, ncols=2)\n",
    "plt.subplots_adjust(wspace=.15)\n",
    "\n",
    "# Ajustando parâmetros dos gráficos\n",
    "ax[0].set_title('Pacientes masculinos', fontsize=17)\n",
    "ax[0].set_ylabel('Contagem')\n",
    "ax[0].set_xlabel('Idade')\n",
    "ax[1].set_title('Pacientes femininos', fontsize=17)\n",
    "ax[1].set_ylabel('Contagem')\n",
    "ax[1].set_xlabel('Idade')\n",
    "\n",
    "# Criando os gráficos definindo o uso de 30 caixas pelo parâmetro 'bins' para melhor distribuição e realizando o comparativo através do parâmetro 'hue'\n",
    "sns.histplot(data=df_m, x='idade',bins=30, hue='avc', multiple=\"stack\", ax=ax[0])\n",
    "sns.histplot(data=df_f, x='idade',bins=30, hue='avc', multiple=\"stack\", ax=ax[1])\n",
    "\n",
    "# Mudando a legenda para melhor interpretação\n",
    "for i in range(ax.shape[0]):\n",
    "    ax[i].legend(labels=['Sofreram AVC','Não sofreram AVC'])"
   ]
  },
  {
   "cell_type": "markdown",
   "id": "79abe560-d1a9-4976-949f-eadb517b21c0",
   "metadata": {},
   "source": [
    "Observamos que apesar de termos um número variado de pacientes entrevistados, o maior índice de pacientes femininas que sofreram um acidente vascular está na faixa dos 75-82 anos. Já entre os homens, a divisão está levemente mais distribuída, na faixa dos 58-82 anos."
   ]
  },
  {
   "cell_type": "markdown",
   "id": "0db925e9-ce2a-49ad-90bf-0324a2fe7af6",
   "metadata": {},
   "source": [
    "## Relacionando condições dos pacientes com casos de AVC"
   ]
  },
  {
   "cell_type": "markdown",
   "id": "3b89b194-b0bf-47da-ab94-a711279666ed",
   "metadata": {},
   "source": [
    "### Análise numérica"
   ]
  },
  {
   "cell_type": "code",
   "execution_count": 36,
   "id": "25072aa1-c42b-4fc2-b42b-fc5757b51b59",
   "metadata": {},
   "outputs": [
    {
     "data": {
      "text/html": [
       "<div>\n",
       "<style scoped>\n",
       "    .dataframe tbody tr th:only-of-type {\n",
       "        vertical-align: middle;\n",
       "    }\n",
       "\n",
       "    .dataframe tbody tr th {\n",
       "        vertical-align: top;\n",
       "    }\n",
       "\n",
       "    .dataframe thead th {\n",
       "        text-align: right;\n",
       "    }\n",
       "</style>\n",
       "<table border=\"1\" class=\"dataframe\">\n",
       "  <thead>\n",
       "    <tr style=\"text-align: right;\">\n",
       "      <th></th>\n",
       "      <th>genero</th>\n",
       "      <th>idade</th>\n",
       "      <th>hipertensao</th>\n",
       "      <th>doenca_cardiaca</th>\n",
       "      <th>nivel_medio_glucose</th>\n",
       "      <th>fumante</th>\n",
       "      <th>imc</th>\n",
       "    </tr>\n",
       "    <tr>\n",
       "      <th>id</th>\n",
       "      <th></th>\n",
       "      <th></th>\n",
       "      <th></th>\n",
       "      <th></th>\n",
       "      <th></th>\n",
       "      <th></th>\n",
       "      <th></th>\n",
       "    </tr>\n",
       "  </thead>\n",
       "  <tbody>\n",
       "    <tr>\n",
       "      <th>9046</th>\n",
       "      <td>masculino</td>\n",
       "      <td>67</td>\n",
       "      <td>0</td>\n",
       "      <td>1</td>\n",
       "      <td>228.69</td>\n",
       "      <td>parou_de_fumar</td>\n",
       "      <td>36.6</td>\n",
       "    </tr>\n",
       "    <tr>\n",
       "      <th>51676</th>\n",
       "      <td>feminino</td>\n",
       "      <td>61</td>\n",
       "      <td>0</td>\n",
       "      <td>0</td>\n",
       "      <td>202.21</td>\n",
       "      <td>nunca_fumou</td>\n",
       "      <td>29.3</td>\n",
       "    </tr>\n",
       "    <tr>\n",
       "      <th>31112</th>\n",
       "      <td>masculino</td>\n",
       "      <td>80</td>\n",
       "      <td>0</td>\n",
       "      <td>1</td>\n",
       "      <td>105.92</td>\n",
       "      <td>nunca_fumou</td>\n",
       "      <td>32.5</td>\n",
       "    </tr>\n",
       "    <tr>\n",
       "      <th>60182</th>\n",
       "      <td>feminino</td>\n",
       "      <td>49</td>\n",
       "      <td>0</td>\n",
       "      <td>0</td>\n",
       "      <td>171.23</td>\n",
       "      <td>fuma</td>\n",
       "      <td>34.4</td>\n",
       "    </tr>\n",
       "    <tr>\n",
       "      <th>1665</th>\n",
       "      <td>feminino</td>\n",
       "      <td>79</td>\n",
       "      <td>1</td>\n",
       "      <td>0</td>\n",
       "      <td>174.12</td>\n",
       "      <td>nunca_fumou</td>\n",
       "      <td>24.0</td>\n",
       "    </tr>\n",
       "  </tbody>\n",
       "</table>\n",
       "</div>"
      ],
      "text/plain": [
       "          genero  idade  hipertensao  doenca_cardiaca  nivel_medio_glucose  \\\n",
       "id                                                                           \n",
       "9046   masculino     67            0                1               228.69   \n",
       "51676   feminino     61            0                0               202.21   \n",
       "31112  masculino     80            0                1               105.92   \n",
       "60182   feminino     49            0                0               171.23   \n",
       "1665    feminino     79            1                0               174.12   \n",
       "\n",
       "              fumante   imc  \n",
       "id                           \n",
       "9046   parou_de_fumar  36.6  \n",
       "51676     nunca_fumou  29.3  \n",
       "31112     nunca_fumou  32.5  \n",
       "60182            fuma  34.4  \n",
       "1665      nunca_fumou  24.0  "
      ]
     },
     "execution_count": 36,
     "metadata": {},
     "output_type": "execute_result"
    }
   ],
   "source": [
    "# Definindo um dataframe apenas com valores de pacientes que sofreram um AVC\n",
    "df_avc = df[df['avc'] == 1]\n",
    "df_avc = df_avc[['genero', 'idade', 'hipertensao', 'doenca_cardiaca', 'nivel_medio_glucose', 'fumante', 'imc']]\n",
    "df_avc.head()"
   ]
  },
  {
   "cell_type": "code",
   "execution_count": 37,
   "id": "a632d223-cdee-4723-981e-db93032d7471",
   "metadata": {},
   "outputs": [
    {
     "data": {
      "text/html": [
       "<div>\n",
       "<style scoped>\n",
       "    .dataframe tbody tr th:only-of-type {\n",
       "        vertical-align: middle;\n",
       "    }\n",
       "\n",
       "    .dataframe tbody tr th {\n",
       "        vertical-align: top;\n",
       "    }\n",
       "\n",
       "    .dataframe thead tr th {\n",
       "        text-align: left;\n",
       "    }\n",
       "\n",
       "    .dataframe thead tr:last-of-type th {\n",
       "        text-align: right;\n",
       "    }\n",
       "</style>\n",
       "<table border=\"1\" class=\"dataframe\">\n",
       "  <thead>\n",
       "    <tr>\n",
       "      <th></th>\n",
       "      <th colspan=\"3\" halign=\"left\">idade</th>\n",
       "      <th colspan=\"3\" halign=\"left\">imc</th>\n",
       "      <th colspan=\"3\" halign=\"left\">nivel_medio_glucose</th>\n",
       "    </tr>\n",
       "    <tr>\n",
       "      <th></th>\n",
       "      <th>median</th>\n",
       "      <th>max</th>\n",
       "      <th>min</th>\n",
       "      <th>median</th>\n",
       "      <th>max</th>\n",
       "      <th>min</th>\n",
       "      <th>median</th>\n",
       "      <th>max</th>\n",
       "      <th>min</th>\n",
       "    </tr>\n",
       "    <tr>\n",
       "      <th>genero</th>\n",
       "      <th></th>\n",
       "      <th></th>\n",
       "      <th></th>\n",
       "      <th></th>\n",
       "      <th></th>\n",
       "      <th></th>\n",
       "      <th></th>\n",
       "      <th></th>\n",
       "      <th></th>\n",
       "    </tr>\n",
       "  </thead>\n",
       "  <tbody>\n",
       "    <tr>\n",
       "      <th>feminino</th>\n",
       "      <td>72.0</td>\n",
       "      <td>82</td>\n",
       "      <td>1</td>\n",
       "      <td>28.80</td>\n",
       "      <td>56.6</td>\n",
       "      <td>16.9</td>\n",
       "      <td>97.920</td>\n",
       "      <td>263.32</td>\n",
       "      <td>57.92</td>\n",
       "    </tr>\n",
       "    <tr>\n",
       "      <th>masculino</th>\n",
       "      <td>70.5</td>\n",
       "      <td>82</td>\n",
       "      <td>42</td>\n",
       "      <td>29.75</td>\n",
       "      <td>45.9</td>\n",
       "      <td>20.2</td>\n",
       "      <td>115.435</td>\n",
       "      <td>271.74</td>\n",
       "      <td>56.11</td>\n",
       "    </tr>\n",
       "  </tbody>\n",
       "</table>\n",
       "</div>"
      ],
      "text/plain": [
       "           idade            imc             nivel_medio_glucose               \n",
       "          median max min median   max   min              median     max    min\n",
       "genero                                                                        \n",
       "feminino    72.0  82   1  28.80  56.6  16.9              97.920  263.32  57.92\n",
       "masculino   70.5  82  42  29.75  45.9  20.2             115.435  271.74  56.11"
      ]
     },
     "execution_count": 37,
     "metadata": {},
     "output_type": "execute_result"
    }
   ],
   "source": [
    "# Analisando alguns dados de agrupamentos relacionados à idade e imc \n",
    "genero_avc = df_avc.groupby('genero')\n",
    "df_agrupado = genero_avc[['idade', 'imc', 'nivel_medio_glucose']].agg(['median', 'max', 'min'])\n",
    "df_agrupado"
   ]
  },
  {
   "cell_type": "code",
   "execution_count": 38,
   "id": "0d7bcc4f-f5ce-4993-a7b5-077604cb351a",
   "metadata": {},
   "outputs": [
    {
     "data": {
      "text/html": [
       "<div>\n",
       "<style scoped>\n",
       "    .dataframe tbody tr th:only-of-type {\n",
       "        vertical-align: middle;\n",
       "    }\n",
       "\n",
       "    .dataframe tbody tr th {\n",
       "        vertical-align: top;\n",
       "    }\n",
       "\n",
       "    .dataframe thead th {\n",
       "        text-align: right;\n",
       "    }\n",
       "</style>\n",
       "<table border=\"1\" class=\"dataframe\">\n",
       "  <thead>\n",
       "    <tr style=\"text-align: right;\">\n",
       "      <th></th>\n",
       "      <th>genero</th>\n",
       "      <th>feminino</th>\n",
       "      <th>masculino</th>\n",
       "    </tr>\n",
       "    <tr>\n",
       "      <th>indices</th>\n",
       "      <th>funcoes</th>\n",
       "      <th></th>\n",
       "      <th></th>\n",
       "    </tr>\n",
       "  </thead>\n",
       "  <tbody>\n",
       "    <tr>\n",
       "      <th rowspan=\"3\" valign=\"top\">idade</th>\n",
       "      <th>max</th>\n",
       "      <td>82.00</td>\n",
       "      <td>82.000</td>\n",
       "    </tr>\n",
       "    <tr>\n",
       "      <th>median</th>\n",
       "      <td>72.00</td>\n",
       "      <td>70.500</td>\n",
       "    </tr>\n",
       "    <tr>\n",
       "      <th>min</th>\n",
       "      <td>1.00</td>\n",
       "      <td>42.000</td>\n",
       "    </tr>\n",
       "    <tr>\n",
       "      <th rowspan=\"3\" valign=\"top\">imc</th>\n",
       "      <th>max</th>\n",
       "      <td>56.60</td>\n",
       "      <td>45.900</td>\n",
       "    </tr>\n",
       "    <tr>\n",
       "      <th>median</th>\n",
       "      <td>28.80</td>\n",
       "      <td>29.750</td>\n",
       "    </tr>\n",
       "    <tr>\n",
       "      <th>min</th>\n",
       "      <td>16.90</td>\n",
       "      <td>20.200</td>\n",
       "    </tr>\n",
       "    <tr>\n",
       "      <th rowspan=\"3\" valign=\"top\">nivel_medio_glucose</th>\n",
       "      <th>max</th>\n",
       "      <td>263.32</td>\n",
       "      <td>271.740</td>\n",
       "    </tr>\n",
       "    <tr>\n",
       "      <th>median</th>\n",
       "      <td>97.92</td>\n",
       "      <td>115.435</td>\n",
       "    </tr>\n",
       "    <tr>\n",
       "      <th>min</th>\n",
       "      <td>57.92</td>\n",
       "      <td>56.110</td>\n",
       "    </tr>\n",
       "  </tbody>\n",
       "</table>\n",
       "</div>"
      ],
      "text/plain": [
       "genero                       feminino  masculino\n",
       "indices             funcoes                     \n",
       "idade               max         82.00     82.000\n",
       "                    median      72.00     70.500\n",
       "                    min          1.00     42.000\n",
       "imc                 max         56.60     45.900\n",
       "                    median      28.80     29.750\n",
       "                    min         16.90     20.200\n",
       "nivel_medio_glucose max        263.32    271.740\n",
       "                    median      97.92    115.435\n",
       "                    min         57.92     56.110"
      ]
     },
     "execution_count": 38,
     "metadata": {},
     "output_type": "execute_result"
    }
   ],
   "source": [
    "# Melhorando a visualização do dataframe\n",
    "# O objetivo será pivotar o dataframe de modo que o gênero esteja nas colunas e as medidas agregadas sejam mostradas nas linhas\n",
    "\n",
    "# Retirando a multi-indexação mapeando os índices de segundo nível e os juntando com os de primeiro nível\n",
    "df_agrupado.columns = df_agrupado.columns.map('_'.join)\n",
    "\n",
    "# Transformando o índice 'genero' em coluna\n",
    "df_agrupado.reset_index(inplace=True)\n",
    "\n",
    "# Pegando os identificadores de cada coluna e os colocando em linha com seus respectivos valores\n",
    "agrupamento_derretido = df_agrupado.melt(id_vars=['genero'], var_name='colunas', value_name='valores')\n",
    "\n",
    "# Separando coluna de índices agrupados anteriormente e os adicionando em duas novas colunas para pivotar a tabela\n",
    "# Nosso objetivo será manter uma multi-indexação, porém nas linhas ao invés de ser nas colunas\n",
    "regex_colunas = '(\\w+)_(\\w+)'\n",
    "agrupamento_derretido[['indices', 'funcoes']] = agrupamento_derretido['colunas'].str.extract(regex_colunas)\n",
    "\n",
    "# Pivotando novamente a tabela, transformando em um modelo mais compacto\n",
    "df_medidas_genero = agrupamento_derretido.pivot_table(index=['indices', 'funcoes'], columns='genero', values='valores')\n",
    "df_medidas_genero"
   ]
  },
  {
   "cell_type": "code",
   "execution_count": 39,
   "id": "f3fe51e4-410d-4253-a9c8-65fc531b3e92",
   "metadata": {},
   "outputs": [
    {
     "data": {
      "text/plain": [
       "genero\n",
       "feminino      97.920\n",
       "masculino    115.435\n",
       "Name: nivel_medio_glucose, dtype: float64"
      ]
     },
     "execution_count": 39,
     "metadata": {},
     "output_type": "execute_result"
    }
   ],
   "source": [
    "df_avc.groupby('genero')['nivel_medio_glucose'].median()"
   ]
  },
  {
   "cell_type": "markdown",
   "id": "033ada62-1c80-4282-931f-bb0e2aebc5d5",
   "metadata": {},
   "source": [
    "### Plotagem"
   ]
  },
  {
   "cell_type": "code",
   "execution_count": 40,
   "id": "479f6939-e073-49d4-8978-8088d361fa71",
   "metadata": {},
   "outputs": [
    {
     "data": {
      "image/png": "[encoded data removed]",
      "text/plain": [
       "<Figure size 1800x500 with 2 Axes>"
      ]
     },
     "metadata": {},
     "output_type": "display_data"
    }
   ],
   "source": [
    "# Gráfico de Colunas\n",
    "\n",
    "# Definindo lista de doencas para avaliar a relação com AVC\n",
    "doencas = ['hipertensao', 'doenca_cardiaca']\n",
    "\n",
    "# Definindo tamanho da figure, bem como o número de gráficos que serão plotados\n",
    "fig, ax = plt.subplots(figsize=(18,5), nrows=1, ncols=2)\n",
    "\n",
    "# Percorrendo a lista de doenças para plotagem dos gráficos dinamicamente\n",
    "for i, doenca in enumerate(doencas, 0):\n",
    "\n",
    "    # Criando tabela cruzada de taxa de incidência entre pessoas com a doença e pessoas que sofreram AVC\n",
    "    crosstab = pd.crosstab(df[doenca], df['avc'], normalize='index') * 100\n",
    "\n",
    "    # Plotagem do gráfico de barras indicando apenas os números de incidência de AVC\n",
    "    grafico = ax[i].barh(np.arange(len(crosstab[1])), crosstab[1])\n",
    "\n",
    "    # Mudando rótulos do eixo y para melhor interpretação e fixando limite de porcentagem do eixo x\n",
    "    ax[i].set_yticks(np.arange(len(crosstab[1])), labels=['Sem','Com'])\n",
    "    ax[i].set_xlim(right=100)\n",
    "\n",
    "    # Adicionando títulos dos eixos e do gráfico\n",
    "    ax[i].set_xlabel('Taxa de AVC (%)')\n",
    "    ax[i].set_ylabel(f'{doenca}')\n",
    "    ax[i].set_title('Relação de Doença por AVC', fontsize=14)\n",
    "\n",
    "    # Adicionando rótulo de dados\n",
    "    ax[i].bar_label(grafico, padding=5, fmt='{:.2f}%')\n",
    "    "
   ]
  },
  {
   "cell_type": "markdown",
   "id": "fedbf053-0618-4391-9238-8db650c89fa2",
   "metadata": {},
   "source": [
    "Percebemos que a tendência a sofrer um AVC cresce nos casos em que pessoas já sofrem com outras doenças crônicas como hipertensão ou doença cardiovascular."
   ]
  },
  {
   "cell_type": "code",
   "execution_count": 41,
   "id": "4e3dcc0a-7447-4f98-af22-a7c48bb58bed",
   "metadata": {},
   "outputs": [
    {
     "data": {
      "image/png": "[encoded data removed]",
      "text/plain": [
       "<Figure size 1000x600 with 2 Axes>"
      ]
     },
     "metadata": {},
     "output_type": "display_data"
    }
   ],
   "source": [
    "# Gráfico Boxplot\n",
    "\n",
    "fig, ax = plt.subplots(figsize=(10, 6), nrows=1, ncols=2, layout='tight')\n",
    "\n",
    "# Definindo lista de condicoes para avaliar a relação com AVC\n",
    "condicoes = ['nivel_medio_glucose', 'imc']\n",
    "\n",
    "# Plotando gráfico na figure e adicionando detalhes na visualização\n",
    "for i, condicao in enumerate(condicoes):\n",
    "        \n",
    "    sns.boxplot(x='genero', y=condicao, color='orange', data=df_avc, ax=ax[i])\n",
    "    ax[i].set_title(f'{condicao} por gênero e incidência de AVC')\n",
    "    ax[i].set_ylabel(f'{condicao}')\n",
    "    ax[i].set_xlabel('Gênero')\n",
    "    ax[i].grid(axis='y', linestyle='--')\n",
    "    \n",
    "\n",
    "    # Percorrendo conteúdo do gráfico para adicionar rótulos\n",
    "    for j, posicao_x in enumerate(ax[i].get_xticks()):\n",
    "        \n",
    "        # Pegando medidas do dataframe para adicionar como rótulo de dados\n",
    "        mediana_por_genero = df_avc.groupby('genero', sort=False)[f'{condicao}'].median()\n",
    "        \n",
    "        ax[i].text(posicao_x,\n",
    "                mediana_por_genero.iloc[j]+0.3,\n",
    "                round(mediana_por_genero.iloc[j], 2),\n",
    "                color='w',\n",
    "                ha='center'\n",
    "               )\n"
   ]
  },
  {
   "cell_type": "markdown",
   "id": "c7fdc73d-a078-4489-8443-2acb0be9c224",
   "metadata": {},
   "source": [
    "Com isso, constatamos:\n",
    "- Dentre os que sofreram um AVC, a concentração do nível de açúcar no sangue varia, entre a mediana (para homens e mulheres respectivamente: 115 e 98) e o terceiro quartil em valores de aproximadamente 100 a 206.\n",
    "- Com relação ao Índice de Massa Corporal, identificamos primeiramente uma quantidade de outliers com valores elevado. Os valores presentes entre a mediana e o 3º quartil indicam valores que tendem à pré-obesidade em adultos acima de 20 anos. \\\n",
    "Isso indica que a alta concentração de açúcar no sangue e o sobrepeso são fatores de risco para o AVC."
   ]
  },
  {
   "cell_type": "markdown",
   "id": "3b0013a5-da75-4e33-af7d-841f5add2b82",
   "metadata": {},
   "source": [
    "## Conclusões"
   ]
  },
  {
   "cell_type": "markdown",
   "id": "e3962ee2-48d5-4e07-87a1-e36c2df32628",
   "metadata": {},
   "source": [
    "- De um total de 5110 entrevistados, 249 sofreram um Acidente Vascular Cerebral.\n",
    "- A maioria das pessoas que sofreram um AVC trabalham em setor privado e são/já foram casadas.\n",
    "- O índice de acidentes começa a partir dos 40 anos, com tendência a aumentar conforme os anos vão passando.\n",
    "- Doenças como hipertensão e doença cardíaca, bem como alto nível de glicose no sangue e peso acima da média são fatores que contribuem para o alto risco de incidência de AVC."
   ]
  },
  {
   "cell_type": "code",
   "execution_count": 42,
   "id": "8f5a3a97-fae4-4e16-ae98-d0fe1ca38a24",
   "metadata": {},
   "outputs": [],
   "source": [
    "# Gerando arquivo .csv com os dados tratados\n",
    "df.to_csv('cleaned_healthcare_stroke_dataset.csv', index=False)"
   ]
  }
 ],
 "metadata": {
  "kernelspec": {
   "display_name": "Python 3 (ipykernel)",
   "language": "python",
   "name": "python3"
  },
  "language_info": {
   "codemirror_mode": {
    "name": "ipython",
    "version": 3
   },
   "file_extension": ".py",
   "mimetype": "text/x-python",
   "name": "python",
   "nbconvert_exporter": "python",
   "pygments_lexer": "ipython3",
   "version": "3.11.1"
  }
 },
 "nbformat": 4,
 "nbformat_minor": 5
}
